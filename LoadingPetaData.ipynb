{
  "nbformat": 4,
  "nbformat_minor": 0,
  "metadata": {
    "colab": {
      "name": "LoadingPetaData",
      "provenance": [],
      "collapsed_sections": [],
      "include_colab_link": true
    },
    "kernelspec": {
      "name": "python3",
      "display_name": "Python 3"
    }
  },
  "cells": [
    {
      "cell_type": "markdown",
      "metadata": {
        "id": "view-in-github",
        "colab_type": "text"
      },
      "source": [
        "<a href=\"https://colab.research.google.com/github/OliverWarwick/ThirdYearProject/blob/master/LoadingPetaData.ipynb\" target=\"_parent\"><img src=\"https://colab.research.google.com/assets/colab-badge.svg\" alt=\"Open In Colab\"/></a>"
      ]
    },
    {
      "cell_type": "code",
      "metadata": {
        "id": "2S_7DaPCEBPz",
        "colab_type": "code",
        "outputId": "7e77300b-44c7-4146-889a-a2ffbcd166ba",
        "colab": {
          "base_uri": "https://localhost:8080/",
          "height": 122
        }
      },
      "source": [
        "from google.colab import drive\n",
        "drive.mount('/content/gdrive')"
      ],
      "execution_count": 0,
      "outputs": [
        {
          "output_type": "stream",
          "text": [
            "Go to this URL in a browser: https://accounts.google.com/o/oauth2/auth?client_id=947318989803-6bn6qk8qdgf4n4g3pfee6491hc0brc4i.apps.googleusercontent.com&redirect_uri=urn%3aietf%3awg%3aoauth%3a2.0%3aoob&response_type=code&scope=email%20https%3a%2f%2fwww.googleapis.com%2fauth%2fdocs.test%20https%3a%2f%2fwww.googleapis.com%2fauth%2fdrive%20https%3a%2f%2fwww.googleapis.com%2fauth%2fdrive.photos.readonly%20https%3a%2f%2fwww.googleapis.com%2fauth%2fpeopleapi.readonly\n",
            "\n",
            "Enter your authorization code:\n",
            "··········\n",
            "Mounted at /content/gdrive\n"
          ],
          "name": "stdout"
        }
      ]
    },
    {
      "cell_type": "code",
      "metadata": {
        "id": "hrpvzTT6GAhf",
        "colab_type": "code",
        "outputId": "8046d39c-5544-47e1-8222-99fde9452088",
        "colab": {
          "base_uri": "https://localhost:8080/",
          "height": 34
        }
      },
      "source": [
        "cd gdrive/My\\ Drive/Datasets"
      ],
      "execution_count": 0,
      "outputs": [
        {
          "output_type": "stream",
          "text": [
            "/content/gdrive/My Drive/Datasets\n"
          ],
          "name": "stdout"
        }
      ]
    },
    {
      "cell_type": "code",
      "metadata": {
        "id": "6qr0hwqUGBc7",
        "colab_type": "code",
        "outputId": "6810865a-bf5c-4dde-cd9c-59a72600f699",
        "colab": {
          "base_uri": "https://localhost:8080/",
          "height": 241
        }
      },
      "source": [
        "dataFile = open(\"Label.txt\",\"r\")\n",
        "i = 0\n",
        "for line in dataFile:\n",
        "    i += 1\n",
        "    if i < 5:\n",
        "        print(line)\n",
        "\n",
        "        imageNumber = int(line[:3])\n",
        "        print(imageNumber)"
      ],
      "execution_count": 0,
      "outputs": [
        {
          "output_type": "stream",
          "text": [
            "806 upperBodyBlack lowerBodyGrey hairBlack footwearWhite lowerBodyCasual lowerBodyTrousers personalLess30 personalMale upperBodyCasual upperBodyLogo upperBodyShortSleeve upperBodyTshirt hairShort footwearSneakers carryingNothing accessoryNothing\n",
            "\n",
            "806\n",
            "058 upperBodyGrey lowerBodyBlack hairBlack footwearBlack lowerBodyFormal lowerBodyTrousers personalLess45 personalMale upperBodyFormal upperBodyLongSleeve hairShort footwearLeatherShoes carryingLuggageCase accessoryNothing\n",
            "\n",
            "58\n",
            "807 upperBodyWhite lowerBodyBlack hairBlack footwearBlack lowerBodyCasual lowerBodyLongSkirt personalFemale personalLess30 upperBodyCasual upperBodyShortSleeve upperBodyTshirt hairLong footwearSandals carryingMessengerBag accessoryNothing\n",
            "\n",
            "807\n",
            "057 upperBodyGreen upperBodyWhite lowerBodyBlue hairBlack footwearWhite lowerBodyCasual lowerBodyJeans personalFemale personalLess30 upperBodyCasual upperBodyLongSleeve upperBodyOther hairLong footwearSneakers carryingBackpack accessoryNothing\n",
            "\n",
            "57\n"
          ],
          "name": "stdout"
        }
      ]
    },
    {
      "cell_type": "markdown",
      "metadata": {
        "id": "ZpMRBcr8N4Gd",
        "colab_type": "text"
      },
      "source": [
        "All the labels from the readme.txt file in the PETA dataset."
      ]
    },
    {
      "cell_type": "code",
      "metadata": {
        "id": "_Oak0gShIIcV",
        "colab_type": "code",
        "outputId": "dc670503-9388-4abe-a3bf-086aea52f686",
        "colab": {
          "base_uri": "https://localhost:8080/",
          "height": 34
        }
      },
      "source": [
        "listOfData = [(2,\"accessoryHeadphone\"), (4,\"personalLess15\"), (5,\"personalLess30\"), (6,\"personalLess45\"), (7,\"personalLess60\"), (8,\"personalLarger60\"), \n",
        "              (9,\"carryingBabyBuggy\"), (10,\"carryingBackpack\"), (11, \"hairBald\"), (12,\"footwearBoots\"), (13,\"lowerBodyCapri\"), (14,\"carryingOther\"), (15,\"carryingShoppingTro\"),\n",
        "              (16,\"carryingUmbrella\"), (17,\"lowerBodyCasual\"), (18,\"upperBodyCasual\"), (19,\"personalFemale\"), (20,\"carryingFolder\"), (21,\"lowerBodyFormal\"), \n",
        "              (22,\"upperBodyFormal\"), (23,\"accessoryHairBand\"), (24,\"accessoryHat\"), (25, \"lowerBodyHotPants\"), (26,\"upperBodyJacket\"), (27,\"lowerBodyJeans\"),\n",
        "              (28,\"accessoryKerchief\"), (29,\"footwearLeatherShoes\"), (30,\"upperBodyLogo\"), (31,\"hairLong\"), (32,\"lowerBodyLongSkirt\"), (33,\"upperBodyLongSleeve\"),\n",
        "              (35,\"lowerBodyPlaid\"), (37,\"lowerBodyThinStripes\"), (38,\"carryingLuggageCase\"), (39,\"personalMale\"), (40,\"carryingMessengerBag\"), (41,\"accessoryMuffler\"),\n",
        "              (42,\"accessoryNothing\"), (43,\"carryingNothing\"), (44,\"upperBodyNoSleeve\"), (45,\"upperBodyPlaid\"), (46,\"carryingPlasticBags\"), (47,\"footwearSandals\"),\n",
        "              (48,\"footwearShoes\"), (49,\"hairShort\"), (50,\"lowerBodyShorts\"), (51,\"upperBodyShortSleeve\"), (52,\"lowerBodyShortSkirt\"), (53,\"footwearSneaker\"),\n",
        "              (54,\"footwearStocking\"), (55,\"upperBodyThinStripes\"), (56,\"upperBodySuit\"), (57,\"carryingSuitcase\"), (58,\"lowerBodySuits\"), (59,\"accessorySunglasses\"),\n",
        "              (60,\"upperBodySweater\"), (61,\"upperBodyThickStripes\"), (62,\"lowerBodyTrousers\"), (63,\"upperBodyTshirt\"), (64,\"upperBodyOther\"), (65,\"upperBodyVNeck\")]\n",
        "\t\n",
        "\n",
        "numberToLabelFull = dict()\n",
        "for (k,v) in listOfData:\n",
        "    numberToLabelFull[k] = v\n",
        "\n",
        "labelToNumberFull = dict()\n",
        "for (k,v) in listOfData:\n",
        "    labelToNumberFull[v] = k\n",
        "\n",
        "       \t"
      ],
      "execution_count": 0,
      "outputs": [
        {
          "output_type": "stream",
          "text": [
            "personalLess30\n"
          ],
          "name": "stdout"
        }
      ]
    }
  ]
}